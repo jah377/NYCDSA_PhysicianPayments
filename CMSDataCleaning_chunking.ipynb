{
 "cells": [
  {
   "cell_type": "markdown",
   "metadata": {},
   "source": [
    "# CMS OPEN PAYMENT DATA 2016\n"
   ]
  },
  {
   "cell_type": "code",
   "execution_count": 1,
   "metadata": {},
   "outputs": [],
   "source": [
    "import pandas as pd\n",
    "import numpy as np"
   ]
  },
  {
   "cell_type": "code",
   "execution_count": 2,
   "metadata": {},
   "outputs": [
    {
     "data": {
      "application/javascript": [
       "\n",
       "            setTimeout(function() {\n",
       "                var nbb_cell_id = 2;\n",
       "                var nbb_unformatted_code = \"%load_ext nb_black\";\n",
       "                var nbb_formatted_code = \"%load_ext nb_black\";\n",
       "                var nbb_cells = Jupyter.notebook.get_cells();\n",
       "                for (var i = 0; i < nbb_cells.length; ++i) {\n",
       "                    if (nbb_cells[i].input_prompt_number == nbb_cell_id) {\n",
       "                        if (nbb_cells[i].get_text() == nbb_unformatted_code) {\n",
       "                             nbb_cells[i].set_text(nbb_formatted_code);\n",
       "                        }\n",
       "                        break;\n",
       "                    }\n",
       "                }\n",
       "            }, 500);\n",
       "            "
      ],
      "text/plain": [
       "<IPython.core.display.Javascript object>"
      ]
     },
     "metadata": {},
     "output_type": "display_data"
    }
   ],
   "source": [
    "%load_ext nb_black"
   ]
  },
  {
   "cell_type": "markdown",
   "metadata": {},
   "source": [
    "### Process CVS In Chunks"
   ]
  },
  {
   "cell_type": "code",
   "execution_count": 3,
   "metadata": {
    "scrolled": false
   },
   "outputs": [
    {
     "name": "stdout",
     "output_type": "stream",
     "text": [
      "(401700, 12)\n",
      "(865652, 12)\n",
      "(1295964, 12)\n",
      "(1642424, 12)\n",
      "(2055460, 12)\n",
      "(2482746, 12)\n",
      "(2951883, 12)\n",
      "(3410892, 12)\n",
      "(3814367, 12)\n",
      "(4228035, 12)\n",
      "(4638937, 12)\n",
      "(5056001, 12)\n",
      "(5499630, 12)\n",
      "(5925150, 12)\n",
      "(6353865, 12)\n",
      "(6762890, 12)\n",
      "(7119982, 12)\n",
      "(7552597, 12)\n",
      "(7981197, 12)\n",
      "(8380384, 12)\n",
      "(8848819, 12)\n",
      "(9335777, 12)\n",
      "(9831669, 12)\n",
      "(9895605, 12)\n"
     ]
    },
    {
     "data": {
      "application/javascript": [
       "\n",
       "            setTimeout(function() {\n",
       "                var nbb_cell_id = 3;\n",
       "                var nbb_unformatted_code = \"# IMPORT CSV\\nchunksize = 500000\\niter_csv = pd.read_csv(\\n    \\\"DataSets/CMS_openpaymens/2016payments.csv\\\",\\n    header=0,\\n    usecols=[\\n        \\\"Physician_Profile_ID\\\",\\n        \\\"Physician_First_Name\\\",\\n        \\\"Physician_Middle_Name\\\",\\n        \\\"Physician_Last_Name\\\",\\n        \\\"Physician_Name_Suffix\\\",\\n        \\\"Recipient_City\\\",\\n        \\\"Recipient_State\\\",\\n        \\\"Physician_Specialty\\\",\\n        \\\"Applicable_Manufacturer_or_Applicable_GPO_Making_Payment_Name\\\",\\n        \\\"Total_Amount_of_Payment_USDollars\\\",\\n        \\\"Number_of_Payments_Included_in_Total_Amount\\\",\\n        \\\"Nature_of_Payment_or_Transfer_of_Value\\\",\\n        \\\"Physician_Ownership_Indicator\\\",\\n        \\\"Indicate_Drug_or_Biological_or_Device_or_Medical_Supply_1\\\",\\n        \\\"Product_Category_or_Therapeutic_Area_1\\\",\\n    ],\\n    iterator=True,\\n    low_memory=False,\\n    chunksize=chunksize,\\n)\\n\\n# PROCESS CSV\\ncounter = 0\\nfor chunk in iter_csv:\\n\\n    # Condense physician column names and remove separate name columns\\n    chunk[\\\"physician_name\\\"] = (\\n        chunk[chunk.columns[1:4]]\\n        .apply(lambda x: \\\" \\\".join(x.dropna().astype(str)), axis=1)\\n        .str.title()\\n    )\\n    chunk = chunk.drop(\\n        [\\n            \\\"Physician_First_Name\\\",\\n            \\\"Physician_Middle_Name\\\",\\n            \\\"Physician_Last_Name\\\",\\n            \\\"Physician_Name_Suffix\\\",\\n        ],\\n        axis=1,\\n    )  # drop separate name columns\\n\\n    # Rename columns\\n    chunk.columns = [\\n        \\\"physician_id\\\",\\n        \\\"physician_city\\\",\\n        \\\"physician_state\\\",\\n        \\\"physician_specialty\\\",\\n        \\\"company_name\\\",\\n        \\\"total_payment\\\",\\n        \\\"num_payment_per_total\\\",\\n        \\\"payment_type\\\",\\n        \\\"physician_ownership\\\",\\n        \\\"product_type\\\",\\n        \\\"product_specialty\\\",\\n        \\\"physician_name\\\",\\n    ]\\n\\n    # Drop rows with missing data\\n    chunk.replace(\\\"\\\", np.nan, inplace=True)\\n    must_have_data = [\\n        \\\"physician_id\\\",\\n        \\\"physician_state\\\",\\n        \\\"physician_specialty\\\",\\n        \\\"company_name\\\",\\n        \\\"total_payment\\\",\\n        \\\"num_payment_per_total\\\",\\n        \\\"payment_type\\\",\\n        \\\"physician_ownership\\\",\\n        \\\"product_type\\\",\\n    ]\\n\\n    chunk = chunk.dropna(subset=must_have_data, how=\\\"any\\\")\\n\\n    # REFORMAT DATA OF INTEREST\\n    # Isolate only physicians (exclude dentists, etc.)\\n    chunk[\\\"physician_specialty\\\"] = chunk[\\\"physician_specialty\\\"].apply(\\n        str\\n    )  # convert to str\\n    chunk = chunk[\\n        chunk[\\\"physician_specialty\\\"].str.contains(\\\"Allopathic\\\")\\n    ]  # isolate doctors\\n    chunk = chunk[\\n        chunk[\\\"product_type\\\"].str.contains(\\\"Device|Drug|Biological\\\")\\n    ]  # isolate product type\\n\\n    # Change City to title\\n    chunk[\\\"physician_city\\\"] = chunk[\\\"physician_city\\\"].apply(str.title)\\n\\n    # Change physician id from float to string\\n    chunk[\\\"physician_id\\\"] = chunk[\\\"physician_id\\\"].apply(str)\\n\\n    # Parse Physician_Specialty column to identify general specialty\\n    chunk[\\\"physician_specialty\\\"] = chunk[\\\"physician_specialty\\\"].apply(\\n        lambda x: str(x).split(\\\"|\\\")[1]\\n    )\\n\\n    # Reformat payment_type column\\n    chunk.payment_type = chunk.payment_type.str.replace(\\n        r\\\"(^.*Compensation.*$)\\\", \\\"Guest Lecture\\\"\\n    )\\n    chunk.payment_type = chunk.payment_type.str.replace(\\n        r\\\"(^.*Honoraria.*$)\\\", \\\"Guest Lecture\\\"\\n    )\\n    chunk.payment_type = chunk.payment_type.str.replace(r\\\"(^.*Grant.*$)\\\", \\\"Education\\\")\\n    chunk.payment_type = chunk.payment_type.str.replace(\\n        r\\\"(^.*Charitable.*$)\\\", \\\"Education\\\"\\n    )\\n    chunk.payment_type = chunk.payment_type.str.replace(r\\\"(^.*Gift.*$)\\\", \\\"Education\\\")\\n    chunk.payment_type = chunk.payment_type.str.replace(\\n        r\\\"(^.*Entertainment.*$)\\\", \\\"Food and Beverage\\\"\\n    )\\n    chunk.payment_type = chunk.payment_type.str.replace(\\n        r\\\"(^.*ownership.*$)\\\", \\\"Consulting Fee\\\"\\n    )\\n\\n    # Store Data\\n    if counter == 0:\\n        df = chunk\\n    else:\\n        df = pd.concat([df, chunk])\\n    counter += 1\\n\\n    # Size of df\\n    print(df.shape)\";\n",
       "                var nbb_formatted_code = \"# IMPORT CSV\\nchunksize = 500000\\niter_csv = pd.read_csv(\\n    \\\"DataSets/CMS_openpaymens/2016payments.csv\\\",\\n    header=0,\\n    usecols=[\\n        \\\"Physician_Profile_ID\\\",\\n        \\\"Physician_First_Name\\\",\\n        \\\"Physician_Middle_Name\\\",\\n        \\\"Physician_Last_Name\\\",\\n        \\\"Physician_Name_Suffix\\\",\\n        \\\"Recipient_City\\\",\\n        \\\"Recipient_State\\\",\\n        \\\"Physician_Specialty\\\",\\n        \\\"Applicable_Manufacturer_or_Applicable_GPO_Making_Payment_Name\\\",\\n        \\\"Total_Amount_of_Payment_USDollars\\\",\\n        \\\"Number_of_Payments_Included_in_Total_Amount\\\",\\n        \\\"Nature_of_Payment_or_Transfer_of_Value\\\",\\n        \\\"Physician_Ownership_Indicator\\\",\\n        \\\"Indicate_Drug_or_Biological_or_Device_or_Medical_Supply_1\\\",\\n        \\\"Product_Category_or_Therapeutic_Area_1\\\",\\n    ],\\n    iterator=True,\\n    low_memory=False,\\n    chunksize=chunksize,\\n)\\n\\n# PROCESS CSV\\ncounter = 0\\nfor chunk in iter_csv:\\n\\n    # Condense physician column names and remove separate name columns\\n    chunk[\\\"physician_name\\\"] = (\\n        chunk[chunk.columns[1:4]]\\n        .apply(lambda x: \\\" \\\".join(x.dropna().astype(str)), axis=1)\\n        .str.title()\\n    )\\n    chunk = chunk.drop(\\n        [\\n            \\\"Physician_First_Name\\\",\\n            \\\"Physician_Middle_Name\\\",\\n            \\\"Physician_Last_Name\\\",\\n            \\\"Physician_Name_Suffix\\\",\\n        ],\\n        axis=1,\\n    )  # drop separate name columns\\n\\n    # Rename columns\\n    chunk.columns = [\\n        \\\"physician_id\\\",\\n        \\\"physician_city\\\",\\n        \\\"physician_state\\\",\\n        \\\"physician_specialty\\\",\\n        \\\"company_name\\\",\\n        \\\"total_payment\\\",\\n        \\\"num_payment_per_total\\\",\\n        \\\"payment_type\\\",\\n        \\\"physician_ownership\\\",\\n        \\\"product_type\\\",\\n        \\\"product_specialty\\\",\\n        \\\"physician_name\\\",\\n    ]\\n\\n    # Drop rows with missing data\\n    chunk.replace(\\\"\\\", np.nan, inplace=True)\\n    must_have_data = [\\n        \\\"physician_id\\\",\\n        \\\"physician_state\\\",\\n        \\\"physician_specialty\\\",\\n        \\\"company_name\\\",\\n        \\\"total_payment\\\",\\n        \\\"num_payment_per_total\\\",\\n        \\\"payment_type\\\",\\n        \\\"physician_ownership\\\",\\n        \\\"product_type\\\",\\n    ]\\n\\n    chunk = chunk.dropna(subset=must_have_data, how=\\\"any\\\")\\n\\n    # REFORMAT DATA OF INTEREST\\n    # Isolate only physicians (exclude dentists, etc.)\\n    chunk[\\\"physician_specialty\\\"] = chunk[\\\"physician_specialty\\\"].apply(\\n        str\\n    )  # convert to str\\n    chunk = chunk[\\n        chunk[\\\"physician_specialty\\\"].str.contains(\\\"Allopathic\\\")\\n    ]  # isolate doctors\\n    chunk = chunk[\\n        chunk[\\\"product_type\\\"].str.contains(\\\"Device|Drug|Biological\\\")\\n    ]  # isolate product type\\n\\n    # Change City to title\\n    chunk[\\\"physician_city\\\"] = chunk[\\\"physician_city\\\"].apply(str.title)\\n\\n    # Change physician id from float to string\\n    chunk[\\\"physician_id\\\"] = chunk[\\\"physician_id\\\"].apply(str)\\n\\n    # Parse Physician_Specialty column to identify general specialty\\n    chunk[\\\"physician_specialty\\\"] = chunk[\\\"physician_specialty\\\"].apply(\\n        lambda x: str(x).split(\\\"|\\\")[1]\\n    )\\n\\n    # Reformat payment_type column\\n    chunk.payment_type = chunk.payment_type.str.replace(\\n        r\\\"(^.*Compensation.*$)\\\", \\\"Guest Lecture\\\"\\n    )\\n    chunk.payment_type = chunk.payment_type.str.replace(\\n        r\\\"(^.*Honoraria.*$)\\\", \\\"Guest Lecture\\\"\\n    )\\n    chunk.payment_type = chunk.payment_type.str.replace(r\\\"(^.*Grant.*$)\\\", \\\"Education\\\")\\n    chunk.payment_type = chunk.payment_type.str.replace(\\n        r\\\"(^.*Charitable.*$)\\\", \\\"Education\\\"\\n    )\\n    chunk.payment_type = chunk.payment_type.str.replace(r\\\"(^.*Gift.*$)\\\", \\\"Education\\\")\\n    chunk.payment_type = chunk.payment_type.str.replace(\\n        r\\\"(^.*Entertainment.*$)\\\", \\\"Food and Beverage\\\"\\n    )\\n    chunk.payment_type = chunk.payment_type.str.replace(\\n        r\\\"(^.*ownership.*$)\\\", \\\"Consulting Fee\\\"\\n    )\\n\\n    # Store Data\\n    if counter == 0:\\n        df = chunk\\n    else:\\n        df = pd.concat([df, chunk])\\n    counter += 1\\n\\n    # Size of df\\n    print(df.shape)\";\n",
       "                var nbb_cells = Jupyter.notebook.get_cells();\n",
       "                for (var i = 0; i < nbb_cells.length; ++i) {\n",
       "                    if (nbb_cells[i].input_prompt_number == nbb_cell_id) {\n",
       "                        if (nbb_cells[i].get_text() == nbb_unformatted_code) {\n",
       "                             nbb_cells[i].set_text(nbb_formatted_code);\n",
       "                        }\n",
       "                        break;\n",
       "                    }\n",
       "                }\n",
       "            }, 500);\n",
       "            "
      ],
      "text/plain": [
       "<IPython.core.display.Javascript object>"
      ]
     },
     "metadata": {},
     "output_type": "display_data"
    }
   ],
   "source": [
    "# IMPORT CSV\n",
    "chunksize = 500000\n",
    "iter_csv = pd.read_csv(\n",
    "    \"DataSets/CMS_openpaymens/2016payments.csv\",\n",
    "    header=0,\n",
    "    usecols=[\n",
    "        \"Physician_Profile_ID\",\n",
    "        \"Physician_First_Name\",\n",
    "        \"Physician_Middle_Name\",\n",
    "        \"Physician_Last_Name\",\n",
    "        \"Physician_Name_Suffix\",\n",
    "        \"Recipient_City\",\n",
    "        \"Recipient_State\",\n",
    "        \"Physician_Specialty\",\n",
    "        \"Applicable_Manufacturer_or_Applicable_GPO_Making_Payment_Name\",\n",
    "        \"Total_Amount_of_Payment_USDollars\",\n",
    "        \"Number_of_Payments_Included_in_Total_Amount\",\n",
    "        \"Nature_of_Payment_or_Transfer_of_Value\",\n",
    "        \"Physician_Ownership_Indicator\",\n",
    "        \"Indicate_Drug_or_Biological_or_Device_or_Medical_Supply_1\",\n",
    "        \"Product_Category_or_Therapeutic_Area_1\",\n",
    "    ],\n",
    "    iterator=True,\n",
    "    low_memory=False,\n",
    "    chunksize=chunksize,\n",
    ")\n",
    "\n",
    "# PROCESS CSV\n",
    "counter = 0\n",
    "for chunk in iter_csv:\n",
    "\n",
    "    # Condense physician column names and remove separate name columns\n",
    "    chunk[\"physician_name\"] = (\n",
    "        chunk[chunk.columns[1:4]]\n",
    "        .apply(lambda x: \" \".join(x.dropna().astype(str)), axis=1)\n",
    "        .str.title()\n",
    "    )\n",
    "    chunk = chunk.drop(\n",
    "        [\n",
    "            \"Physician_First_Name\",\n",
    "            \"Physician_Middle_Name\",\n",
    "            \"Physician_Last_Name\",\n",
    "            \"Physician_Name_Suffix\",\n",
    "        ],\n",
    "        axis=1,\n",
    "    )  # drop separate name columns\n",
    "\n",
    "    # Rename columns\n",
    "    chunk.columns = [\n",
    "        \"physician_id\",\n",
    "        \"physician_city\",\n",
    "        \"physician_state\",\n",
    "        \"physician_specialty\",\n",
    "        \"company_name\",\n",
    "        \"total_payment\",\n",
    "        \"num_payment_per_total\",\n",
    "        \"payment_type\",\n",
    "        \"physician_ownership\",\n",
    "        \"product_type\",\n",
    "        \"product_specialty\",\n",
    "        \"physician_name\",\n",
    "    ]\n",
    "\n",
    "    # Drop rows with missing data\n",
    "    chunk.replace(\"\", np.nan, inplace=True)\n",
    "    must_have_data = [\n",
    "        \"physician_id\",\n",
    "        \"physician_state\",\n",
    "        \"physician_specialty\",\n",
    "        \"company_name\",\n",
    "        \"total_payment\",\n",
    "        \"num_payment_per_total\",\n",
    "        \"payment_type\",\n",
    "        \"physician_ownership\",\n",
    "        \"product_type\",\n",
    "    ]\n",
    "\n",
    "    chunk = chunk.dropna(subset=must_have_data, how=\"any\")\n",
    "\n",
    "    # REFORMAT DATA OF INTEREST\n",
    "    # Isolate only physicians (exclude dentists, etc.)\n",
    "    chunk[\"physician_specialty\"] = chunk[\"physician_specialty\"].apply(\n",
    "        str\n",
    "    )  # convert to str\n",
    "    chunk = chunk[\n",
    "        chunk[\"physician_specialty\"].str.contains(\"Allopathic\")\n",
    "    ]  # isolate doctors\n",
    "    chunk = chunk[\n",
    "        chunk[\"product_type\"].str.contains(\"Device|Drug|Biological\")\n",
    "    ]  # isolate product type\n",
    "\n",
    "    # Change City to title\n",
    "    chunk[\"physician_city\"] = chunk[\"physician_city\"].apply(str.title)\n",
    "\n",
    "    # Change physician id from float to string\n",
    "    chunk[\"physician_id\"] = chunk[\"physician_id\"].apply(str)\n",
    "\n",
    "    # Parse Physician_Specialty column to identify general specialty\n",
    "    chunk[\"physician_specialty\"] = chunk[\"physician_specialty\"].apply(\n",
    "        lambda x: str(x).split(\"|\")[1]\n",
    "    )\n",
    "\n",
    "    # Reformat payment_type column\n",
    "    chunk.payment_type = chunk.payment_type.str.replace(\n",
    "        r\"(^.*Compensation.*$)\", \"Guest Lecture\"\n",
    "    )\n",
    "    chunk.payment_type = chunk.payment_type.str.replace(\n",
    "        r\"(^.*Honoraria.*$)\", \"Guest Lecture\"\n",
    "    )\n",
    "    chunk.payment_type = chunk.payment_type.str.replace(r\"(^.*Grant.*$)\", \"Education\")\n",
    "    chunk.payment_type = chunk.payment_type.str.replace(\n",
    "        r\"(^.*Charitable.*$)\", \"Education\"\n",
    "    )\n",
    "    chunk.payment_type = chunk.payment_type.str.replace(r\"(^.*Gift.*$)\", \"Education\")\n",
    "    chunk.payment_type = chunk.payment_type.str.replace(\n",
    "        r\"(^.*Entertainment.*$)\", \"Food and Beverage\"\n",
    "    )\n",
    "    chunk.payment_type = chunk.payment_type.str.replace(\n",
    "        r\"(^.*ownership.*$)\", \"Consulting Fee\"\n",
    "    )\n",
    "\n",
    "    # Store Data\n",
    "    if counter == 0:\n",
    "        df = chunk\n",
    "    else:\n",
    "        df = pd.concat([df, chunk])\n",
    "    counter += 1\n",
    "\n",
    "    # Size of df\n",
    "    print(df.shape)"
   ]
  },
  {
   "cell_type": "markdown",
   "metadata": {},
   "source": [
    "## Summary Spreadsheets For R"
   ]
  },
  {
   "cell_type": "code",
   "execution_count": 4,
   "metadata": {
    "scrolled": true
   },
   "outputs": [
    {
     "data": {
      "application/javascript": [
       "\n",
       "            setTimeout(function() {\n",
       "                var nbb_cell_id = 4;\n",
       "                var nbb_unformatted_code = \"new_df = df\";\n",
       "                var nbb_formatted_code = \"new_df = df\";\n",
       "                var nbb_cells = Jupyter.notebook.get_cells();\n",
       "                for (var i = 0; i < nbb_cells.length; ++i) {\n",
       "                    if (nbb_cells[i].input_prompt_number == nbb_cell_id) {\n",
       "                        if (nbb_cells[i].get_text() == nbb_unformatted_code) {\n",
       "                             nbb_cells[i].set_text(nbb_formatted_code);\n",
       "                        }\n",
       "                        break;\n",
       "                    }\n",
       "                }\n",
       "            }, 500);\n",
       "            "
      ],
      "text/plain": [
       "<IPython.core.display.Javascript object>"
      ]
     },
     "metadata": {},
     "output_type": "display_data"
    }
   ],
   "source": [
    "new_df = df\n"
   ]
  },
  {
   "cell_type": "code",
   "execution_count": 5,
   "metadata": {},
   "outputs": [
    {
     "data": {
      "application/javascript": [
       "\n",
       "            setTimeout(function() {\n",
       "                var nbb_cell_id = 5;\n",
       "                var nbb_unformatted_code = \"#ENTIRE DATASET: Descriptive Summary By Specialty\\nspecialty_totalpayments = new_df.groupby(\\\"physician_specialty\\\")[\\n    \\\"total_payment\\\"\\n].sum()\\nspecialty_npayments = new_df.groupby(\\\"physician_specialty\\\")[\\n    \\\"num_payment_per_total\\\"\\n].sum()\\nspecialty_ndoctors = new_df.groupby(\\\"physician_specialty\\\")[\\\"physician_id\\\"].nunique()\\n\\n\\n# Combine Descriptive Values\\nresult1 = pd.merge(\\n    specialty_totalpayments, specialty_npayments, on=\\\"physician_specialty\\\"\\n)\\nresult2 = pd.merge(result1, specialty_ndoctors, on=\\\"physician_specialty\\\")\\nresults2 = result2.sort_values(\\\"total_payment\\\", ascending=False)\\n\\n# Export Data\\nresults2.to_csv(\\n    \\\"DataSets/openpayment_specialty_descriptive.csv\\\",\\n    header=[\\\"total_payments\\\", \\\"npayments\\\", \\\"ndoctors\\\"],\\n)\";\n",
       "                var nbb_formatted_code = \"# ENTIRE DATASET: Descriptive Summary By Specialty\\nspecialty_totalpayments = new_df.groupby(\\\"physician_specialty\\\")[\\\"total_payment\\\"].sum()\\nspecialty_npayments = new_df.groupby(\\\"physician_specialty\\\")[\\n    \\\"num_payment_per_total\\\"\\n].sum()\\nspecialty_ndoctors = new_df.groupby(\\\"physician_specialty\\\")[\\\"physician_id\\\"].nunique()\\n\\n\\n# Combine Descriptive Values\\nresult1 = pd.merge(\\n    specialty_totalpayments, specialty_npayments, on=\\\"physician_specialty\\\"\\n)\\nresult2 = pd.merge(result1, specialty_ndoctors, on=\\\"physician_specialty\\\")\\nresults2 = result2.sort_values(\\\"total_payment\\\", ascending=False)\\n\\n# Export Data\\nresults2.to_csv(\\n    \\\"DataSets/openpayment_specialty_descriptive.csv\\\",\\n    header=[\\\"total_payments\\\", \\\"npayments\\\", \\\"ndoctors\\\"],\\n)\";\n",
       "                var nbb_cells = Jupyter.notebook.get_cells();\n",
       "                for (var i = 0; i < nbb_cells.length; ++i) {\n",
       "                    if (nbb_cells[i].input_prompt_number == nbb_cell_id) {\n",
       "                        if (nbb_cells[i].get_text() == nbb_unformatted_code) {\n",
       "                             nbb_cells[i].set_text(nbb_formatted_code);\n",
       "                        }\n",
       "                        break;\n",
       "                    }\n",
       "                }\n",
       "            }, 500);\n",
       "            "
      ],
      "text/plain": [
       "<IPython.core.display.Javascript object>"
      ]
     },
     "metadata": {},
     "output_type": "display_data"
    }
   ],
   "source": [
    "# ENTIRE DATASET: Descriptive Summary By Specialty\n",
    "specialty_totalpayments = new_df.groupby(\"physician_specialty\")[\"total_payment\"].sum()\n",
    "specialty_npayments = new_df.groupby(\"physician_specialty\")[\n",
    "    \"num_payment_per_total\"\n",
    "].sum()\n",
    "specialty_ndoctors = new_df.groupby(\"physician_specialty\")[\"physician_id\"].nunique()\n",
    "\n",
    "\n",
    "# Combine Descriptive Values\n",
    "result1 = pd.merge(\n",
    "    specialty_totalpayments, specialty_npayments, on=\"physician_specialty\"\n",
    ")\n",
    "result2 = pd.merge(result1, specialty_ndoctors, on=\"physician_specialty\")\n",
    "results2 = result2.sort_values(\"total_payment\", ascending=False)\n",
    "\n",
    "# Export Data\n",
    "results2.to_csv(\n",
    "    \"DataSets/openpayment_specialty_descriptive.csv\",\n",
    "    header=[\"total_payments\", \"npayments\", \"ndoctors\"],\n",
    ")"
   ]
  },
  {
   "cell_type": "code",
   "execution_count": 6,
   "metadata": {},
   "outputs": [
    {
     "data": {
      "application/javascript": [
       "\n",
       "            setTimeout(function() {\n",
       "                var nbb_cell_id = 6;\n",
       "                var nbb_unformatted_code = \"#ENTIRE DATASET: Descriptive Summary By Specialty\\nproduct_totalpayments = new_df.groupby(\\\"product_type\\\")[\\n    \\\"total_payment\\\"\\n].sum()\\nproduct_npayments = new_df.groupby(\\\"product_type\\\")[\\n    \\\"num_payment_per_total\\\"\\n].sum()\\nproduct_ndoctors = new_df.groupby(\\\"product_type\\\")[\\\"physician_id\\\"].nunique()\\n\\n\\n# Combine Descriptive Values\\nresult1 = pd.merge(\\n    product_totalpayments, product_npayments, on=\\\"product_type\\\"\\n)\\nresult2 = pd.merge(result1, product_ndoctors, on=\\\"product_type\\\")\\nresults2 = result2.sort_values(\\\"total_payment\\\", ascending=False)\\n\\n# Export Data\\nresults2.to_csv(\\n    \\\"DataSets/openpayment_products_descriptive.csv\\\",\\n    header=[\\\"total_payments\\\", \\\"npayments\\\", \\\"ndoctors\\\"],\\n)\";\n",
       "                var nbb_formatted_code = \"# ENTIRE DATASET: Descriptive Summary By Specialty\\nproduct_totalpayments = new_df.groupby(\\\"product_type\\\")[\\\"total_payment\\\"].sum()\\nproduct_npayments = new_df.groupby(\\\"product_type\\\")[\\\"num_payment_per_total\\\"].sum()\\nproduct_ndoctors = new_df.groupby(\\\"product_type\\\")[\\\"physician_id\\\"].nunique()\\n\\n\\n# Combine Descriptive Values\\nresult1 = pd.merge(product_totalpayments, product_npayments, on=\\\"product_type\\\")\\nresult2 = pd.merge(result1, product_ndoctors, on=\\\"product_type\\\")\\nresults2 = result2.sort_values(\\\"total_payment\\\", ascending=False)\\n\\n# Export Data\\nresults2.to_csv(\\n    \\\"DataSets/openpayment_products_descriptive.csv\\\",\\n    header=[\\\"total_payments\\\", \\\"npayments\\\", \\\"ndoctors\\\"],\\n)\";\n",
       "                var nbb_cells = Jupyter.notebook.get_cells();\n",
       "                for (var i = 0; i < nbb_cells.length; ++i) {\n",
       "                    if (nbb_cells[i].input_prompt_number == nbb_cell_id) {\n",
       "                        if (nbb_cells[i].get_text() == nbb_unformatted_code) {\n",
       "                             nbb_cells[i].set_text(nbb_formatted_code);\n",
       "                        }\n",
       "                        break;\n",
       "                    }\n",
       "                }\n",
       "            }, 500);\n",
       "            "
      ],
      "text/plain": [
       "<IPython.core.display.Javascript object>"
      ]
     },
     "metadata": {},
     "output_type": "display_data"
    }
   ],
   "source": [
    "# ENTIRE DATASET: Descriptive Summary By Specialty\n",
    "product_totalpayments = new_df.groupby(\"product_type\")[\"total_payment\"].sum()\n",
    "product_npayments = new_df.groupby(\"product_type\")[\"num_payment_per_total\"].sum()\n",
    "product_ndoctors = new_df.groupby(\"product_type\")[\"physician_id\"].nunique()\n",
    "\n",
    "\n",
    "# Combine Descriptive Values\n",
    "result1 = pd.merge(product_totalpayments, product_npayments, on=\"product_type\")\n",
    "result2 = pd.merge(result1, product_ndoctors, on=\"product_type\")\n",
    "results2 = result2.sort_values(\"total_payment\", ascending=False)\n",
    "\n",
    "# Export Data\n",
    "results2.to_csv(\n",
    "    \"DataSets/openpayment_products_descriptive.csv\",\n",
    "    header=[\"total_payments\", \"npayments\", \"ndoctors\"],\n",
    ")"
   ]
  }
 ],
 "metadata": {
  "kernelspec": {
   "display_name": "Python 3",
   "language": "python",
   "name": "python3"
  },
  "language_info": {
   "codemirror_mode": {
    "name": "ipython",
    "version": 3
   },
   "file_extension": ".py",
   "mimetype": "text/x-python",
   "name": "python",
   "nbconvert_exporter": "python",
   "pygments_lexer": "ipython3",
   "version": "3.7.4"
  }
 },
 "nbformat": 4,
 "nbformat_minor": 2
}
